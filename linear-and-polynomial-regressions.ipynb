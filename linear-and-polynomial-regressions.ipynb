{
 "cells": [
  {
   "cell_type": "code",
   "execution_count": 1,
   "id": "06f8b5be",
   "metadata": {
    "_cell_guid": "b1076dfc-b9ad-4769-8c92-a6c4dae69d19",
    "_uuid": "8f2839f25d086af736a60e9eeb907d3b93b6e0e5",
    "execution": {
     "iopub.execute_input": "2023-04-01T02:34:03.780952Z",
     "iopub.status.busy": "2023-04-01T02:34:03.779685Z",
     "iopub.status.idle": "2023-04-01T02:34:03.801501Z",
     "shell.execute_reply": "2023-04-01T02:34:03.800571Z"
    },
    "papermill": {
     "duration": 0.032602,
     "end_time": "2023-04-01T02:34:03.804034",
     "exception": false,
     "start_time": "2023-04-01T02:34:03.771432",
     "status": "completed"
    },
    "tags": []
   },
   "outputs": [
    {
     "name": "stdout",
     "output_type": "stream",
     "text": [
      "/kaggle/input/salary-dataset-simple-linear-regression/Salary_dataset.csv\n"
     ]
    }
   ],
   "source": [
    "# This Python 3 environment comes with many helpful analytics libraries installed\n",
    "# It is defined by the kaggle/python Docker image: https://github.com/kaggle/docker-python\n",
    "# For example, here's several helpful packages to load\n",
    "\n",
    "import numpy as np # linear algebra\n",
    "import pandas as pd # data processing, CSV file I/O (e.g. pd.read_csv)\n",
    "\n",
    "# Input data files are available in the read-only \"../input/\" directory\n",
    "# For example, running this (by clicking run or pressing Shift+Enter) will list all files under the input directory\n",
    "\n",
    "import os\n",
    "for dirname, _, filenames in os.walk('/kaggle/input'):\n",
    "    for filename in filenames:\n",
    "        print(os.path.join(dirname, filename))\n",
    "\n",
    "# You can write up to 20GB to the current directory (/kaggle/working/) that gets preserved as output when you create a version using \"Save & Run All\" \n",
    "# You can also write temporary files to /kaggle/temp/, but they won't be saved outside of the current session"
   ]
  },
  {
   "cell_type": "markdown",
   "id": "2f4f8d55",
   "metadata": {
    "papermill": {
     "duration": 0.005239,
     "end_time": "2023-04-01T02:34:03.814932",
     "exception": false,
     "start_time": "2023-04-01T02:34:03.809693",
     "status": "completed"
    },
    "tags": []
   },
   "source": [
    "**Predicting Salary of a worker according to experience using Linear and Polynomial Regressions**"
   ]
  },
  {
   "cell_type": "markdown",
   "id": "edd9d9a8",
   "metadata": {
    "papermill": {
     "duration": 0.005176,
     "end_time": "2023-04-01T02:34:03.825677",
     "exception": false,
     "start_time": "2023-04-01T02:34:03.820501",
     "status": "completed"
    },
    "tags": []
   },
   "source": [
    "importing libraries"
   ]
  },
  {
   "cell_type": "code",
   "execution_count": 2,
   "id": "711a922b",
   "metadata": {
    "execution": {
     "iopub.execute_input": "2023-04-01T02:34:03.840333Z",
     "iopub.status.busy": "2023-04-01T02:34:03.838147Z",
     "iopub.status.idle": "2023-04-01T02:34:03.846380Z",
     "shell.execute_reply": "2023-04-01T02:34:03.844501Z"
    },
    "papermill": {
     "duration": 0.01834,
     "end_time": "2023-04-01T02:34:03.849445",
     "exception": false,
     "start_time": "2023-04-01T02:34:03.831105",
     "status": "completed"
    },
    "tags": []
   },
   "outputs": [],
   "source": [
    "import numpy as np\n",
    "import matplotlib.pyplot as plt\n",
    "import pandas as pd"
   ]
  },
  {
   "cell_type": "markdown",
   "id": "05206a97",
   "metadata": {
    "papermill": {
     "duration": 0.006732,
     "end_time": "2023-04-01T02:34:03.862865",
     "exception": false,
     "start_time": "2023-04-01T02:34:03.856133",
     "status": "completed"
    },
    "tags": []
   },
   "source": [
    "Importing dataset"
   ]
  },
  {
   "cell_type": "code",
   "execution_count": 3,
   "id": "16a14724",
   "metadata": {
    "execution": {
     "iopub.execute_input": "2023-04-01T02:34:03.876068Z",
     "iopub.status.busy": "2023-04-01T02:34:03.875660Z",
     "iopub.status.idle": "2023-04-01T02:34:03.931139Z",
     "shell.execute_reply": "2023-04-01T02:34:03.928302Z"
    },
    "papermill": {
     "duration": 0.06555,
     "end_time": "2023-04-01T02:34:03.934013",
     "exception": false,
     "start_time": "2023-04-01T02:34:03.868463",
     "status": "completed"
    },
    "tags": []
   },
   "outputs": [
    {
     "data": {
      "text/html": [
       "<div>\n",
       "<style scoped>\n",
       "    .dataframe tbody tr th:only-of-type {\n",
       "        vertical-align: middle;\n",
       "    }\n",
       "\n",
       "    .dataframe tbody tr th {\n",
       "        vertical-align: top;\n",
       "    }\n",
       "\n",
       "    .dataframe thead th {\n",
       "        text-align: right;\n",
       "    }\n",
       "</style>\n",
       "<table border=\"1\" class=\"dataframe\">\n",
       "  <thead>\n",
       "    <tr style=\"text-align: right;\">\n",
       "      <th></th>\n",
       "      <th>Unnamed: 0</th>\n",
       "      <th>YearsExperience</th>\n",
       "      <th>Salary</th>\n",
       "    </tr>\n",
       "  </thead>\n",
       "  <tbody>\n",
       "    <tr>\n",
       "      <th>0</th>\n",
       "      <td>0</td>\n",
       "      <td>1.2</td>\n",
       "      <td>39344.0</td>\n",
       "    </tr>\n",
       "    <tr>\n",
       "      <th>1</th>\n",
       "      <td>1</td>\n",
       "      <td>1.4</td>\n",
       "      <td>46206.0</td>\n",
       "    </tr>\n",
       "    <tr>\n",
       "      <th>2</th>\n",
       "      <td>2</td>\n",
       "      <td>1.6</td>\n",
       "      <td>37732.0</td>\n",
       "    </tr>\n",
       "    <tr>\n",
       "      <th>3</th>\n",
       "      <td>3</td>\n",
       "      <td>2.1</td>\n",
       "      <td>43526.0</td>\n",
       "    </tr>\n",
       "    <tr>\n",
       "      <th>4</th>\n",
       "      <td>4</td>\n",
       "      <td>2.3</td>\n",
       "      <td>39892.0</td>\n",
       "    </tr>\n",
       "  </tbody>\n",
       "</table>\n",
       "</div>"
      ],
      "text/plain": [
       "   Unnamed: 0  YearsExperience   Salary\n",
       "0           0              1.2  39344.0\n",
       "1           1              1.4  46206.0\n",
       "2           2              1.6  37732.0\n",
       "3           3              2.1  43526.0\n",
       "4           4              2.3  39892.0"
      ]
     },
     "execution_count": 3,
     "metadata": {},
     "output_type": "execute_result"
    }
   ],
   "source": [
    "df=pd.read_csv(\"/kaggle/input/salary-dataset-simple-linear-regression/Salary_dataset.csv\")\n",
    "df.head()"
   ]
  },
  {
   "cell_type": "code",
   "execution_count": 4,
   "id": "7e104001",
   "metadata": {
    "execution": {
     "iopub.execute_input": "2023-04-01T02:34:03.948321Z",
     "iopub.status.busy": "2023-04-01T02:34:03.947908Z",
     "iopub.status.idle": "2023-04-01T02:34:03.956566Z",
     "shell.execute_reply": "2023-04-01T02:34:03.954332Z"
    },
    "papermill": {
     "duration": 0.019903,
     "end_time": "2023-04-01T02:34:03.960208",
     "exception": false,
     "start_time": "2023-04-01T02:34:03.940305",
     "status": "completed"
    },
    "tags": []
   },
   "outputs": [],
   "source": [
    "x=df.iloc[:,1:-1].values\n",
    "y=df.iloc[:,-1].values"
   ]
  },
  {
   "cell_type": "markdown",
   "id": "8ce2b3bf",
   "metadata": {
    "papermill": {
     "duration": 0.005787,
     "end_time": "2023-04-01T02:34:03.972200",
     "exception": false,
     "start_time": "2023-04-01T02:34:03.966413",
     "status": "completed"
    },
    "tags": []
   },
   "source": [
    "Training the Linear Regression model on the whole dataset"
   ]
  },
  {
   "cell_type": "code",
   "execution_count": 5,
   "id": "f9886cd8",
   "metadata": {
    "execution": {
     "iopub.execute_input": "2023-04-01T02:34:03.987419Z",
     "iopub.status.busy": "2023-04-01T02:34:03.986645Z",
     "iopub.status.idle": "2023-04-01T02:34:05.402188Z",
     "shell.execute_reply": "2023-04-01T02:34:05.400341Z"
    },
    "papermill": {
     "duration": 1.426819,
     "end_time": "2023-04-01T02:34:05.405362",
     "exception": false,
     "start_time": "2023-04-01T02:34:03.978543",
     "status": "completed"
    },
    "tags": []
   },
   "outputs": [],
   "source": [
    "from sklearn.linear_model import LinearRegression"
   ]
  },
  {
   "cell_type": "code",
   "execution_count": 6,
   "id": "41933ab7",
   "metadata": {
    "execution": {
     "iopub.execute_input": "2023-04-01T02:34:05.418448Z",
     "iopub.status.busy": "2023-04-01T02:34:05.417918Z",
     "iopub.status.idle": "2023-04-01T02:34:05.422657Z",
     "shell.execute_reply": "2023-04-01T02:34:05.421645Z"
    },
    "papermill": {
     "duration": 0.014384,
     "end_time": "2023-04-01T02:34:05.425389",
     "exception": false,
     "start_time": "2023-04-01T02:34:05.411005",
     "status": "completed"
    },
    "tags": []
   },
   "outputs": [],
   "source": [
    "lin_reg=LinearRegression()"
   ]
  },
  {
   "cell_type": "code",
   "execution_count": 7,
   "id": "c2869477",
   "metadata": {
    "execution": {
     "iopub.execute_input": "2023-04-01T02:34:05.438616Z",
     "iopub.status.busy": "2023-04-01T02:34:05.438215Z",
     "iopub.status.idle": "2023-04-01T02:34:05.466014Z",
     "shell.execute_reply": "2023-04-01T02:34:05.464582Z"
    },
    "papermill": {
     "duration": 0.037098,
     "end_time": "2023-04-01T02:34:05.468275",
     "exception": false,
     "start_time": "2023-04-01T02:34:05.431177",
     "status": "completed"
    },
    "tags": []
   },
   "outputs": [
    {
     "data": {
      "text/plain": [
       "LinearRegression()"
      ]
     },
     "execution_count": 7,
     "metadata": {},
     "output_type": "execute_result"
    }
   ],
   "source": [
    "lin_reg.fit(x, y)"
   ]
  },
  {
   "cell_type": "markdown",
   "id": "444ee762",
   "metadata": {
    "papermill": {
     "duration": 0.005347,
     "end_time": "2023-04-01T02:34:05.479498",
     "exception": false,
     "start_time": "2023-04-01T02:34:05.474151",
     "status": "completed"
    },
    "tags": []
   },
   "source": [
    "Training the Polynomial Regression model on the whole dataset"
   ]
  },
  {
   "cell_type": "code",
   "execution_count": 8,
   "id": "89299ebd",
   "metadata": {
    "execution": {
     "iopub.execute_input": "2023-04-01T02:34:05.492931Z",
     "iopub.status.busy": "2023-04-01T02:34:05.492453Z",
     "iopub.status.idle": "2023-04-01T02:34:05.499169Z",
     "shell.execute_reply": "2023-04-01T02:34:05.497604Z"
    },
    "papermill": {
     "duration": 0.0169,
     "end_time": "2023-04-01T02:34:05.502186",
     "exception": false,
     "start_time": "2023-04-01T02:34:05.485286",
     "status": "completed"
    },
    "tags": []
   },
   "outputs": [],
   "source": [
    "from sklearn.preprocessing import PolynomialFeatures"
   ]
  },
  {
   "cell_type": "code",
   "execution_count": 9,
   "id": "c157052e",
   "metadata": {
    "execution": {
     "iopub.execute_input": "2023-04-01T02:34:05.516203Z",
     "iopub.status.busy": "2023-04-01T02:34:05.515770Z",
     "iopub.status.idle": "2023-04-01T02:34:05.521131Z",
     "shell.execute_reply": "2023-04-01T02:34:05.520106Z"
    },
    "papermill": {
     "duration": 0.014969,
     "end_time": "2023-04-01T02:34:05.523178",
     "exception": false,
     "start_time": "2023-04-01T02:34:05.508209",
     "status": "completed"
    },
    "tags": []
   },
   "outputs": [],
   "source": [
    "poly_reg=PolynomialFeatures(degree=4)\n",
    "x_poly=poly_reg.fit_transform(x)"
   ]
  },
  {
   "cell_type": "code",
   "execution_count": 10,
   "id": "96e69a51",
   "metadata": {
    "execution": {
     "iopub.execute_input": "2023-04-01T02:34:05.537206Z",
     "iopub.status.busy": "2023-04-01T02:34:05.536302Z",
     "iopub.status.idle": "2023-04-01T02:34:05.548763Z",
     "shell.execute_reply": "2023-04-01T02:34:05.547110Z"
    },
    "papermill": {
     "duration": 0.022133,
     "end_time": "2023-04-01T02:34:05.551183",
     "exception": false,
     "start_time": "2023-04-01T02:34:05.529050",
     "status": "completed"
    },
    "tags": []
   },
   "outputs": [
    {
     "data": {
      "text/plain": [
       "LinearRegression()"
      ]
     },
     "execution_count": 10,
     "metadata": {},
     "output_type": "execute_result"
    }
   ],
   "source": [
    "lin_reg_2=LinearRegression()\n",
    "lin_reg_2.fit(x_poly,y)"
   ]
  },
  {
   "cell_type": "markdown",
   "id": "cb5726c0",
   "metadata": {
    "papermill": {
     "duration": 0.007845,
     "end_time": "2023-04-01T02:34:05.565060",
     "exception": false,
     "start_time": "2023-04-01T02:34:05.557215",
     "status": "completed"
    },
    "tags": []
   },
   "source": [
    "Visualising the Linear Regression results"
   ]
  },
  {
   "cell_type": "code",
   "execution_count": 11,
   "id": "c68ed9b1",
   "metadata": {
    "execution": {
     "iopub.execute_input": "2023-04-01T02:34:05.579426Z",
     "iopub.status.busy": "2023-04-01T02:34:05.578999Z",
     "iopub.status.idle": "2023-04-01T02:34:05.796909Z",
     "shell.execute_reply": "2023-04-01T02:34:05.795446Z"
    },
    "papermill": {
     "duration": 0.228219,
     "end_time": "2023-04-01T02:34:05.800015",
     "exception": false,
     "start_time": "2023-04-01T02:34:05.571796",
     "status": "completed"
    },
    "tags": []
   },
   "outputs": [
    {
     "data": {
      "text/plain": [
       "<function matplotlib.pyplot.show(close=None, block=None)>"
      ]
     },
     "execution_count": 11,
     "metadata": {},
     "output_type": "execute_result"
    },
    {
     "data": {
      "image/png": "[encoded data removed]",
      "text/plain": [
       "<Figure size 1000x400 with 1 Axes>"
      ]
     },
     "metadata": {},
     "output_type": "display_data"
    }
   ],
   "source": [
    "plt.figure(figsize=(10,4))\n",
    "plt.scatter(x,y,color='red')\n",
    "plt.plot(x,lin_reg.predict(x),color='blue')\n",
    "plt.title('Truth or Bluff(linear regression)')\n",
    "plt.xlabel('YearsExperience')\n",
    "plt.ylabel('Salary')\n",
    "plt.show"
   ]
  },
  {
   "cell_type": "markdown",
   "id": "ac1c1016",
   "metadata": {
    "papermill": {
     "duration": 0.006258,
     "end_time": "2023-04-01T02:34:05.813150",
     "exception": false,
     "start_time": "2023-04-01T02:34:05.806892",
     "status": "completed"
    },
    "tags": []
   },
   "source": [
    "Visualising the Polynomial Regression results"
   ]
  },
  {
   "cell_type": "code",
   "execution_count": 12,
   "id": "8814b8d2",
   "metadata": {
    "execution": {
     "iopub.execute_input": "2023-04-01T02:34:05.829634Z",
     "iopub.status.busy": "2023-04-01T02:34:05.829190Z",
     "iopub.status.idle": "2023-04-01T02:34:06.010262Z",
     "shell.execute_reply": "2023-04-01T02:34:06.008787Z"
    },
    "papermill": {
     "duration": 0.192902,
     "end_time": "2023-04-01T02:34:06.012817",
     "exception": false,
     "start_time": "2023-04-01T02:34:05.819915",
     "status": "completed"
    },
    "tags": []
   },
   "outputs": [
    {
     "data": {
      "text/plain": [
       "<function matplotlib.pyplot.show(close=None, block=None)>"
      ]
     },
     "execution_count": 12,
     "metadata": {},
     "output_type": "execute_result"
    },
    {
     "data": {
      "image/png": "[encoded data removed]",
      "text/plain": [
       "<Figure size 1000x400 with 1 Axes>"
      ]
     },
     "metadata": {},
     "output_type": "display_data"
    }
   ],
   "source": [
    "plt.figure(figsize=(10,4))\n",
    "plt.scatter(x,y,color='red')\n",
    "plt.plot(x,lin_reg_2.predict(poly_reg.fit_transform(x)), color = 'blue')\n",
    "plt.title('Truth or Bluff(Polynomial Regression)')\n",
    "plt.xlabel('YearsExperience')\n",
    "plt.ylabel('Salary')\n",
    "plt.show"
   ]
  },
  {
   "cell_type": "markdown",
   "id": "220ebe5f",
   "metadata": {
    "papermill": {
     "duration": 0.006897,
     "end_time": "2023-04-01T02:34:06.026736",
     "exception": false,
     "start_time": "2023-04-01T02:34:06.019839",
     "status": "completed"
    },
    "tags": []
   },
   "source": [
    "Visualising the Polynomial Regression results (for higher resolution and smoother curve)"
   ]
  },
  {
   "cell_type": "code",
   "execution_count": 13,
   "id": "7803bb35",
   "metadata": {
    "execution": {
     "iopub.execute_input": "2023-04-01T02:34:06.042327Z",
     "iopub.status.busy": "2023-04-01T02:34:06.041935Z",
     "iopub.status.idle": "2023-04-01T02:34:06.230816Z",
     "shell.execute_reply": "2023-04-01T02:34:06.229598Z"
    },
    "papermill": {
     "duration": 0.199618,
     "end_time": "2023-04-01T02:34:06.233176",
     "exception": false,
     "start_time": "2023-04-01T02:34:06.033558",
     "status": "completed"
    },
    "tags": []
   },
   "outputs": [
    {
     "data": {
      "text/plain": [
       "<function matplotlib.pyplot.show(close=None, block=None)>"
      ]
     },
     "execution_count": 13,
     "metadata": {},
     "output_type": "execute_result"
    },
    {
     "data": {
      "image/png": "[encoded data removed]",
      "text/plain": [
       "<Figure size 1000x400 with 1 Axes>"
      ]
     },
     "metadata": {},
     "output_type": "display_data"
    }
   ],
   "source": [
    "plt.figure(figsize=(10,4))\n",
    "x_grid=np.arange(min(x),max(x),0.1)\n",
    "x_grid=x_grid.reshape((len(x_grid),1))\n",
    "plt.scatter(x,y,color='red')\n",
    "plt.plot(x_grid,lin_reg_2.predict(poly_reg.fit_transform(x_grid)), color = 'blue')\n",
    "plt.title('Truth or Bluff(Polynomial Regression)')\n",
    "plt.xlabel('YearsExperience')\n",
    "plt.ylabel('Salary')\n",
    "plt.show"
   ]
  },
  {
   "cell_type": "markdown",
   "id": "82c38706",
   "metadata": {
    "papermill": {
     "duration": 0.007291,
     "end_time": "2023-04-01T02:34:06.248389",
     "exception": false,
     "start_time": "2023-04-01T02:34:06.241098",
     "status": "completed"
    },
    "tags": []
   },
   "source": [
    "\n",
    "Predicting a new result with Linear Regression"
   ]
  },
  {
   "cell_type": "code",
   "execution_count": 14,
   "id": "3d36658f",
   "metadata": {
    "execution": {
     "iopub.execute_input": "2023-04-01T02:34:06.266628Z",
     "iopub.status.busy": "2023-04-01T02:34:06.265309Z",
     "iopub.status.idle": "2023-04-01T02:34:06.274396Z",
     "shell.execute_reply": "2023-04-01T02:34:06.272930Z"
    },
    "papermill": {
     "duration": 0.021673,
     "end_time": "2023-04-01T02:34:06.278038",
     "exception": false,
     "start_time": "2023-04-01T02:34:06.256365",
     "status": "completed"
    },
    "tags": []
   },
   "outputs": [
    {
     "data": {
      "text/plain": [
       "array([86272.95905598])"
      ]
     },
     "execution_count": 14,
     "metadata": {},
     "output_type": "execute_result"
    }
   ],
   "source": [
    "lin_reg.predict([[6.5]])"
   ]
  },
  {
   "cell_type": "markdown",
   "id": "74b4e13e",
   "metadata": {
    "papermill": {
     "duration": 0.007871,
     "end_time": "2023-04-01T02:34:06.294160",
     "exception": false,
     "start_time": "2023-04-01T02:34:06.286289",
     "status": "completed"
    },
    "tags": []
   },
   "source": [
    "\n",
    "Predicting a new result with Polynomial Regression"
   ]
  },
  {
   "cell_type": "code",
   "execution_count": 15,
   "id": "ba4a892a",
   "metadata": {
    "execution": {
     "iopub.execute_input": "2023-04-01T02:34:06.313569Z",
     "iopub.status.busy": "2023-04-01T02:34:06.312851Z",
     "iopub.status.idle": "2023-04-01T02:34:06.321196Z",
     "shell.execute_reply": "2023-04-01T02:34:06.319429Z"
    },
    "papermill": {
     "duration": 0.020954,
     "end_time": "2023-04-01T02:34:06.323751",
     "exception": false,
     "start_time": "2023-04-01T02:34:06.302797",
     "status": "completed"
    },
    "tags": []
   },
   "outputs": [
    {
     "data": {
      "text/plain": [
       "array([88253.65786533])"
      ]
     },
     "execution_count": 15,
     "metadata": {},
     "output_type": "execute_result"
    }
   ],
   "source": [
    "lin_reg_2.predict(poly_reg.fit_transform([[6.5]]))"
   ]
  },
  {
   "cell_type": "code",
   "execution_count": null,
   "id": "3b8071d4",
   "metadata": {
    "papermill": {
     "duration": 0.007438,
     "end_time": "2023-04-01T02:34:06.338923",
     "exception": false,
     "start_time": "2023-04-01T02:34:06.331485",
     "status": "completed"
    },
    "tags": []
   },
   "outputs": [],
   "source": []
  }
 ],
 "metadata": {
  "kernelspec": {
   "display_name": "Python 3",
   "language": "python",
   "name": "python3"
  },
  "language_info": {
   "codemirror_mode": {
    "name": "ipython",
    "version": 3
   },
   "file_extension": ".py",
   "mimetype": "text/x-python",
   "name": "python",
   "nbconvert_exporter": "python",
   "pygments_lexer": "ipython3",
   "version": "3.7.12"
  },
  "papermill": {
   "default_parameters": {},
   "duration": 13.54397,
   "end_time": "2023-04-01T02:34:07.170078",
   "environment_variables": {},
   "exception": null,
   "input_path": "__notebook__.ipynb",
   "output_path": "__notebook__.ipynb",
   "parameters": {},
   "start_time": "2023-04-01T02:33:53.626108",
   "version": "2.4.0"
  }
 },
 "nbformat": 4,
 "nbformat_minor": 5
}
